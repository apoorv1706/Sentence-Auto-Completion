{
 "cells": [
  {
   "cell_type": "markdown",
   "metadata": {},
   "source": [
    "# LSTM Implementation"
   ]
  },
  {
   "cell_type": "markdown",
   "metadata": {},
   "source": [
    "# **Text Preprocessing**"
   ]
  },
  {
   "cell_type": "code",
   "execution_count": 2,
   "metadata": {},
   "outputs": [],
   "source": [
    "import os\n",
    "import pandas as pd\n",
    "import numpy as np\n",
    "import tensorflow as tf\n",
    "from tensorflow.keras.preprocessing.sequence import pad_sequences\n",
    "from tensorflow.keras.layers import Embedding, LSTM, Dense, Bidirectional\n",
    "from tensorflow.keras.preprocessing.text import Tokenizer\n",
    "from tensorflow.keras.models import Sequential\n",
    "from tensorflow.keras.optimizers import Adam\n",
    "import nltk\n",
    "import re"
   ]
  },
  {
   "cell_type": "code",
   "execution_count": 3,
   "metadata": {},
   "outputs": [],
   "source": [
    "# Specify the filename\n",
    "input_file = 'holmes.txt'\n",
    "\n",
    "# Read the contents of the file\n",
    "with open(input_file, 'r', encoding='utf-8') as infile:\n",
    "    data = infile.read()"
   ]
  },
  {
   "cell_type": "code",
   "execution_count": 4,
   "metadata": {},
   "outputs": [
    {
     "data": {
      "text/plain": [
       "\"*Project Gutenberg's Etext of Tom Swift And His Submarine Boat*\\n\\n#4 in the Victor Appleton's Tom Swi\""
      ]
     },
     "execution_count": 4,
     "metadata": {},
     "output_type": "execute_result"
    }
   ],
   "source": [
    "data[:100] # view first few characters"
   ]
  },
  {
   "cell_type": "code",
   "execution_count": 5,
   "metadata": {},
   "outputs": [],
   "source": [
    "# Limit data to 500000 characters\n",
    "data = data[:500000]"
   ]
  },
  {
   "cell_type": "markdown",
   "metadata": {},
   "source": [
    "# Clean Text"
   ]
  },
  {
   "cell_type": "code",
   "execution_count": 6,
   "metadata": {},
   "outputs": [],
   "source": [
    "# Function to remove emojis and special characters from text\n",
    "def remove_emojis_and_special_characters(text):\n",
    "    # Remove emojis\n",
    "    emoji_pattern = re.compile(\"[\"\n",
    "                               u\"\\U0001F600-\\U0001F64F\"  # emoticons\n",
    "                               u\"\\U0001F300-\\U0001F5FF\"  # symbols & pictographs\n",
    "                               u\"\\U0001F680-\\U0001F6FF\"  # transport & map symbols\n",
    "                               u\"\\U0001F700-\\U0001F77F\"  # alchemical symbols\n",
    "                               u\"\\U0001F780-\\U0001F7FF\"  # Geometric Shapes Extended\n",
    "                               u\"\\U0001F800-\\U0001F8FF\"  # Supplemental Arrows-C\n",
    "                               u\"\\U0001F900-\\U0001F9FF\"  # Supplemental Symbols and Pictographs\n",
    "                               u\"\\U0001FA00-\\U0001FA6F\"  # Chess Symbols\n",
    "                               u\"\\U0001FA70-\\U0001FAFF\"  # Symbols and Pictographs Extended-A\n",
    "                               u\"\\U00002702-\\U000027B0\"  # Dingbats\n",
    "                               u\"\\U000024C2-\\U0001F251\" \n",
    "                               \"]+\", flags=re.UNICODE)\n",
    "    \n",
    "    # Remove special characters\n",
    "    text = re.sub(r'[^a-zA-Z0-9\\s]', '', text)\n",
    "    \n",
    "    # Remove extra spaces\n",
    "    text = re.sub(' +', ' ', text)\n",
    "    \n",
    "    return text"
   ]
  },
  {
   "cell_type": "code",
   "execution_count": 7,
   "metadata": {},
   "outputs": [],
   "source": [
    "# Preprocessing pipeline\n",
    "def preprocess_pipeline(data) -> 'list':\n",
    "    # Split by newline character\n",
    "    sentences = data.split('\\n')\n",
    "    for i in range(len(sentences)):\n",
    "        sentences[i] = remove_emojis_and_special_characters(sentences[i])\n",
    "    # Remove leading and trailing spaces\n",
    "    sentences = [s.strip() for s in sentences]\n",
    "    # Drop empty sentences\n",
    "    sentences = [s for s in sentences if len(s) > 0]\n",
    "    # Tokenization\n",
    "    tokenized = []\n",
    "    for sentence in sentences:\n",
    "        # Convert to lowercase\n",
    "        sentence = sentence.lower()\n",
    "        tokenized.append(sentence)\n",
    "    return tokenized\n",
    "\n",
    "# Tokenize sentences\n",
    "tokenized_sentences = preprocess_pipeline(data)"
   ]
  },
  {
   "cell_type": "code",
   "execution_count": 8,
   "metadata": {},
   "outputs": [],
   "source": [
    "\"\"\"\n",
    "What is an OOV Token?\n",
    "An out-of-vocabulary (OOV) token is a special token used in natural language processing (NLP) tasks to represent words that\n",
    "are not present in the vocabulary of the model or tokenizer. When a word that is not in the vocabulary is encountered during\n",
    "tokenization or text processing, it is replaced with the OOV token.\n",
    "\n",
    "Why Use an OOV Token?\n",
    "Using an OOV token helps handle unseen or unknown words during the training or inference phase of an NLP model. \n",
    "Instead of encountering errors or issues when encountering unknown words, the model can gracefully handle them by\n",
    "representing them with the OOV token. This is particularly useful when working with real-world data where the vocabulary\n",
    "of the model may not cover all possible words.\n",
    "\"\"\"\n",
    "# Tokenize words\n",
    "tokenizer = Tokenizer(oov_token='<oov>')\n",
    "tokenizer.fit_on_texts(tokenized_sentences)\n",
    "total_words = len(tokenizer.word_index) + 1\n",
    "# tokenizer.word_counts\n",
    "# tokenizer.word_index\n",
    "\"\"\"\n",
    "n_gram example:\n",
    "[3, 15, 8, 7, 20, 12, 6]\n",
    "\n",
    "For the above sentece sentence, the code would generate the following n-gram sequences:\n",
    "\n",
    "[3, 15]\n",
    "[3, 15, 8]\n",
    "[3, 15, 8, 7]\n",
    "[3, 15, 8, 7, 20]\n",
    "[3, 15, 8, 7, 20, 12]\n",
    "[3, 15, 8, 7, 20, 12, 6]\n",
    "\"\"\"\n",
    "\n",
    "# Generate input sequences\n",
    "input_sequences = []\n",
    "for line in tokenized_sentences:\n",
    "    token_list = tokenizer.texts_to_sequences([line])[0]\n",
    "    for i in range(1, len(token_list)):\n",
    "        n_gram_sequence = token_list[:i + 1]\n",
    "        input_sequences.append(n_gram_sequence)\n",
    "\n",
    "# Pad sequences\n",
    "max_sequence_len = max([len(x) for x in input_sequences])\n",
    "input_sequences = np.array(pad_sequences(input_sequences, maxlen=max_sequence_len, padding='pre'))"
   ]
  },
  {
   "cell_type": "code",
   "execution_count": 9,
   "metadata": {},
   "outputs": [],
   "source": [
    "# Creates labels with input sequences\n",
    "X,labels = input_sequences[:,:-1],input_sequences[:,-1]\n",
    "ys = tf.keras.utils.to_categorical(labels, num_classes=total_words)"
   ]
  },
  {
   "cell_type": "code",
   "execution_count": 10,
   "metadata": {
    "execution": {
     "iopub.execute_input": "2024-04-11T05:32:13.168190Z",
     "iopub.status.busy": "2024-04-11T05:32:13.167751Z",
     "iopub.status.idle": "2024-04-11T05:32:20.041506Z",
     "shell.execute_reply": "2024-04-11T05:32:20.040383Z",
     "shell.execute_reply.started": "2024-04-11T05:32:13.168137Z"
    }
   },
   "outputs": [],
   "source": [
    "# Split data into training, validation, and test sets\n",
    "from sklearn.model_selection import train_test_split\n",
    "X_train_temp, X_val_test, y_train_temp, y_val_test = train_test_split(X, ys, test_size=0.2, random_state=42)\n",
    "X_val, X_test, y_val, y_test = train_test_split(X_val_test, y_val_test, test_size=0.5, random_state=42)"
   ]
  },
  {
   "cell_type": "markdown",
   "metadata": {},
   "source": [
    "# Train LSTM Model"
   ]
  },
  {
   "cell_type": "code",
   "execution_count": 11,
   "metadata": {
    "execution": {
     "iopub.execute_input": "2024-04-11T06:50:19.346868Z",
     "iopub.status.busy": "2024-04-11T06:50:19.345839Z",
     "iopub.status.idle": "2024-04-11T07:17:23.071736Z",
     "shell.execute_reply": "2024-04-11T07:17:23.070573Z",
     "shell.execute_reply.started": "2024-04-11T06:50:19.346830Z"
    }
   },
   "outputs": [
    {
     "name": "stdout",
     "output_type": "stream",
     "text": [
      "Epoch 1/50\n",
      "\u001b[1m2002/2002\u001b[0m \u001b[32m━━━━━━━━━━━━━━━━━━━━\u001b[0m\u001b[37m\u001b[0m \u001b[1m136s\u001b[0m 66ms/step - accuracy: 0.0944 - loss: 6.3540 - val_accuracy: 0.1280 - val_loss: 6.1291\n",
      "Epoch 2/50\n",
      "\u001b[1m2002/2002\u001b[0m \u001b[32m━━━━━━━━━━━━━━━━━━━━\u001b[0m\u001b[37m\u001b[0m \u001b[1m147s\u001b[0m 73ms/step - accuracy: 0.1363 - loss: 5.7423 - val_accuracy: 0.1378 - val_loss: 6.0430\n",
      "Epoch 3/50\n",
      "\u001b[1m2002/2002\u001b[0m \u001b[32m━━━━━━━━━━━━━━━━━━━━\u001b[0m\u001b[37m\u001b[0m \u001b[1m130s\u001b[0m 65ms/step - accuracy: 0.1612 - loss: 5.0076 - val_accuracy: 0.1424 - val_loss: 6.1671\n",
      "Epoch 4/50\n",
      "\u001b[1m2002/2002\u001b[0m \u001b[32m━━━━━━━━━━━━━━━━━━━━\u001b[0m\u001b[37m\u001b[0m \u001b[1m124s\u001b[0m 62ms/step - accuracy: 0.1788 - loss: 4.5513 - val_accuracy: 0.1363 - val_loss: 6.4732\n",
      "Epoch 5/50\n",
      "\u001b[1m2002/2002\u001b[0m \u001b[32m━━━━━━━━━━━━━━━━━━━━\u001b[0m\u001b[37m\u001b[0m \u001b[1m117s\u001b[0m 58ms/step - accuracy: 0.1955 - loss: 4.3523 - val_accuracy: 0.1455 - val_loss: 6.6200\n",
      "Epoch 6/50\n",
      "\u001b[1m2002/2002\u001b[0m \u001b[32m━━━━━━━━━━━━━━━━━━━━\u001b[0m\u001b[37m\u001b[0m \u001b[1m108s\u001b[0m 54ms/step - accuracy: 0.2045 - loss: 4.1835 - val_accuracy: 0.1435 - val_loss: 6.9550\n",
      "Epoch 7/50\n",
      "\u001b[1m2002/2002\u001b[0m \u001b[32m━━━━━━━━━━━━━━━━━━━━\u001b[0m\u001b[37m\u001b[0m \u001b[1m119s\u001b[0m 59ms/step - accuracy: 0.2143 - loss: 4.0411 - val_accuracy: 0.1358 - val_loss: 7.2880\n",
      "Epoch 8/50\n",
      "\u001b[1m2002/2002\u001b[0m \u001b[32m━━━━━━━━━━━━━━━━━━━━\u001b[0m\u001b[37m\u001b[0m \u001b[1m116s\u001b[0m 58ms/step - accuracy: 0.2228 - loss: 3.9036 - val_accuracy: 0.1344 - val_loss: 7.5701\n",
      "Epoch 9/50\n",
      "\u001b[1m2002/2002\u001b[0m \u001b[32m━━━━━━━━━━━━━━━━━━━━\u001b[0m\u001b[37m\u001b[0m \u001b[1m145s\u001b[0m 72ms/step - accuracy: 0.2381 - loss: 3.7963 - val_accuracy: 0.1340 - val_loss: 7.8126\n",
      "Epoch 10/50\n",
      "\u001b[1m2002/2002\u001b[0m \u001b[32m━━━━━━━━━━━━━━━━━━━━\u001b[0m\u001b[37m\u001b[0m \u001b[1m120s\u001b[0m 60ms/step - accuracy: 0.2356 - loss: 3.7827 - val_accuracy: 0.1351 - val_loss: 8.1296\n",
      "Epoch 11/50\n",
      "\u001b[1m2002/2002\u001b[0m \u001b[32m━━━━━━━━━━━━━━━━━━━━\u001b[0m\u001b[37m\u001b[0m \u001b[1m96s\u001b[0m 48ms/step - accuracy: 0.2418 - loss: 3.7388 - val_accuracy: 0.1381 - val_loss: 8.2513\n",
      "Epoch 12/50\n",
      "\u001b[1m2002/2002\u001b[0m \u001b[32m━━━━━━━━━━━━━━━━━━━━\u001b[0m\u001b[37m\u001b[0m \u001b[1m99s\u001b[0m 49ms/step - accuracy: 0.2474 - loss: 3.6868 - val_accuracy: 0.1332 - val_loss: 8.6656\n",
      "Epoch 13/50\n",
      "\u001b[1m2002/2002\u001b[0m \u001b[32m━━━━━━━━━━━━━━━━━━━━\u001b[0m\u001b[37m\u001b[0m \u001b[1m116s\u001b[0m 58ms/step - accuracy: 0.2501 - loss: 3.6612 - val_accuracy: 0.1327 - val_loss: 8.7510\n",
      "Epoch 14/50\n",
      "\u001b[1m2002/2002\u001b[0m \u001b[32m━━━━━━━━━━━━━━━━━━━━\u001b[0m\u001b[37m\u001b[0m \u001b[1m107s\u001b[0m 53ms/step - accuracy: 0.2558 - loss: 3.6090 - val_accuracy: 0.1322 - val_loss: 8.9745\n",
      "Epoch 15/50\n",
      "\u001b[1m2002/2002\u001b[0m \u001b[32m━━━━━━━━━━━━━━━━━━━━\u001b[0m\u001b[37m\u001b[0m \u001b[1m102s\u001b[0m 51ms/step - accuracy: 0.2600 - loss: 3.5758 - val_accuracy: 0.1394 - val_loss: 9.1217\n",
      "Epoch 16/50\n",
      "\u001b[1m2002/2002\u001b[0m \u001b[32m━━━━━━━━━━━━━━━━━━━━\u001b[0m\u001b[37m\u001b[0m \u001b[1m69s\u001b[0m 35ms/step - accuracy: 0.2593 - loss: 3.5811 - val_accuracy: 0.1354 - val_loss: 9.4020\n",
      "Epoch 17/50\n",
      "\u001b[1m2002/2002\u001b[0m \u001b[32m━━━━━━━━━━━━━━━━━━━━\u001b[0m\u001b[37m\u001b[0m \u001b[1m70s\u001b[0m 35ms/step - accuracy: 0.2629 - loss: 3.5716 - val_accuracy: 0.1350 - val_loss: 9.6018\n",
      "Epoch 18/50\n",
      "\u001b[1m2002/2002\u001b[0m \u001b[32m━━━━━━━━━━━━━━━━━━━━\u001b[0m\u001b[37m\u001b[0m \u001b[1m71s\u001b[0m 35ms/step - accuracy: 0.2614 - loss: 3.5547 - val_accuracy: 0.1364 - val_loss: 9.6320\n",
      "Epoch 19/50\n",
      "\u001b[1m2002/2002\u001b[0m \u001b[32m━━━━━━━━━━━━━━━━━━━━\u001b[0m\u001b[37m\u001b[0m \u001b[1m71s\u001b[0m 35ms/step - accuracy: 0.2671 - loss: 3.5431 - val_accuracy: 0.1327 - val_loss: 9.8841\n",
      "Epoch 20/50\n",
      "\u001b[1m2002/2002\u001b[0m \u001b[32m━━━━━━━━━━━━━━━━━━━━\u001b[0m\u001b[37m\u001b[0m \u001b[1m72s\u001b[0m 36ms/step - accuracy: 0.2650 - loss: 3.5601 - val_accuracy: 0.1283 - val_loss: 10.0553\n",
      "Epoch 21/50\n",
      "\u001b[1m2002/2002\u001b[0m \u001b[32m━━━━━━━━━━━━━━━━━━━━\u001b[0m\u001b[37m\u001b[0m \u001b[1m71s\u001b[0m 36ms/step - accuracy: 0.2725 - loss: 3.4996 - val_accuracy: 0.1344 - val_loss: 10.1228\n",
      "Epoch 22/50\n",
      "\u001b[1m2002/2002\u001b[0m \u001b[32m━━━━━━━━━━━━━━━━━━━━\u001b[0m\u001b[37m\u001b[0m \u001b[1m79s\u001b[0m 39ms/step - accuracy: 0.2675 - loss: 3.5151 - val_accuracy: 0.1333 - val_loss: 10.2895\n",
      "Epoch 23/50\n",
      "\u001b[1m2002/2002\u001b[0m \u001b[32m━━━━━━━━━━━━━━━━━━━━\u001b[0m\u001b[37m\u001b[0m \u001b[1m77s\u001b[0m 38ms/step - accuracy: 0.2741 - loss: 3.5164 - val_accuracy: 0.1360 - val_loss: 10.3622\n",
      "Epoch 24/50\n",
      "\u001b[1m2002/2002\u001b[0m \u001b[32m━━━━━━━━━━━━━━━━━━━━\u001b[0m\u001b[37m\u001b[0m \u001b[1m73s\u001b[0m 37ms/step - accuracy: 0.2737 - loss: 3.4848 - val_accuracy: 0.1294 - val_loss: 10.3882\n",
      "Epoch 25/50\n",
      "\u001b[1m2002/2002\u001b[0m \u001b[32m━━━━━━━━━━━━━━━━━━━━\u001b[0m\u001b[37m\u001b[0m \u001b[1m70s\u001b[0m 35ms/step - accuracy: 0.2708 - loss: 3.5414 - val_accuracy: 0.1349 - val_loss: 10.7053\n",
      "Epoch 26/50\n",
      "\u001b[1m2002/2002\u001b[0m \u001b[32m━━━━━━━━━━━━━━━━━━━━\u001b[0m\u001b[37m\u001b[0m \u001b[1m70s\u001b[0m 35ms/step - accuracy: 0.2757 - loss: 3.5174 - val_accuracy: 0.1336 - val_loss: 10.7989\n",
      "Epoch 27/50\n",
      "\u001b[1m2002/2002\u001b[0m \u001b[32m━━━━━━━━━━━━━━━━━━━━\u001b[0m\u001b[37m\u001b[0m \u001b[1m76s\u001b[0m 38ms/step - accuracy: 0.2730 - loss: 3.5206 - val_accuracy: 0.1303 - val_loss: 10.8894\n",
      "Epoch 28/50\n",
      "\u001b[1m2002/2002\u001b[0m \u001b[32m━━━━━━━━━━━━━━━━━━━━\u001b[0m\u001b[37m\u001b[0m \u001b[1m74s\u001b[0m 37ms/step - accuracy: 0.2731 - loss: 3.5531 - val_accuracy: 0.1345 - val_loss: 10.9738\n",
      "Epoch 29/50\n",
      "\u001b[1m2002/2002\u001b[0m \u001b[32m━━━━━━━━━━━━━━━━━━━━\u001b[0m\u001b[37m\u001b[0m \u001b[1m85s\u001b[0m 42ms/step - accuracy: 0.2718 - loss: 3.6328 - val_accuracy: 0.1202 - val_loss: 11.2674\n",
      "Epoch 30/50\n",
      "\u001b[1m2002/2002\u001b[0m \u001b[32m━━━━━━━━━━━━━━━━━━━━\u001b[0m\u001b[37m\u001b[0m \u001b[1m69s\u001b[0m 35ms/step - accuracy: 0.2744 - loss: 3.5655 - val_accuracy: 0.1240 - val_loss: 11.4037\n",
      "Epoch 31/50\n",
      "\u001b[1m2002/2002\u001b[0m \u001b[32m━━━━━━━━━━━━━━━━━━━━\u001b[0m\u001b[37m\u001b[0m \u001b[1m69s\u001b[0m 35ms/step - accuracy: 0.2770 - loss: 3.5196 - val_accuracy: 0.1293 - val_loss: 11.4641\n",
      "Epoch 32/50\n",
      "\u001b[1m2002/2002\u001b[0m \u001b[32m━━━━━━━━━━━━━━━━━━━━\u001b[0m\u001b[37m\u001b[0m \u001b[1m68s\u001b[0m 34ms/step - accuracy: 0.2816 - loss: 3.5015 - val_accuracy: 0.1365 - val_loss: 11.5568\n",
      "Epoch 33/50\n",
      "\u001b[1m2002/2002\u001b[0m \u001b[32m━━━━━━━━━━━━━━━━━━━━\u001b[0m\u001b[37m\u001b[0m \u001b[1m74s\u001b[0m 37ms/step - accuracy: 0.2744 - loss: 3.5538 - val_accuracy: 0.1228 - val_loss: 11.7958\n",
      "Epoch 34/50\n",
      "\u001b[1m2002/2002\u001b[0m \u001b[32m━━━━━━━━━━━━━━━━━━━━\u001b[0m\u001b[37m\u001b[0m \u001b[1m80s\u001b[0m 40ms/step - accuracy: 0.2726 - loss: 3.6253 - val_accuracy: 0.1349 - val_loss: 11.8211\n",
      "Epoch 35/50\n",
      "\u001b[1m2002/2002\u001b[0m \u001b[32m━━━━━━━━━━━━━━━━━━━━\u001b[0m\u001b[37m\u001b[0m \u001b[1m68s\u001b[0m 34ms/step - accuracy: 0.2767 - loss: 3.5523 - val_accuracy: 0.1308 - val_loss: 11.8502\n",
      "Epoch 36/50\n",
      "\u001b[1m2002/2002\u001b[0m \u001b[32m━━━━━━━━━━━━━━━━━━━━\u001b[0m\u001b[37m\u001b[0m \u001b[1m76s\u001b[0m 38ms/step - accuracy: 0.2790 - loss: 3.5146 - val_accuracy: 0.1341 - val_loss: 11.8986\n",
      "Epoch 37/50\n",
      "\u001b[1m2002/2002\u001b[0m \u001b[32m━━━━━━━━━━━━━━━━━━━━\u001b[0m\u001b[37m\u001b[0m \u001b[1m75s\u001b[0m 37ms/step - accuracy: 0.2766 - loss: 3.5391 - val_accuracy: 0.1282 - val_loss: 12.0402\n",
      "Epoch 38/50\n",
      "\u001b[1m2002/2002\u001b[0m \u001b[32m━━━━━━━━━━━━━━━━━━━━\u001b[0m\u001b[37m\u001b[0m \u001b[1m75s\u001b[0m 37ms/step - accuracy: 0.2774 - loss: 3.5686 - val_accuracy: 0.1318 - val_loss: 12.0818\n",
      "Epoch 39/50\n",
      "\u001b[1m2002/2002\u001b[0m \u001b[32m━━━━━━━━━━━━━━━━━━━━\u001b[0m\u001b[37m\u001b[0m \u001b[1m75s\u001b[0m 38ms/step - accuracy: 0.2838 - loss: 3.4887 - val_accuracy: 0.1262 - val_loss: 12.2336\n",
      "Epoch 40/50\n",
      "\u001b[1m2002/2002\u001b[0m \u001b[32m━━━━━━━━━━━━━━━━━━━━\u001b[0m\u001b[37m\u001b[0m \u001b[1m76s\u001b[0m 38ms/step - accuracy: 0.2819 - loss: 3.5291 - val_accuracy: 0.1268 - val_loss: 12.4186\n",
      "Epoch 41/50\n",
      "\u001b[1m2002/2002\u001b[0m \u001b[32m━━━━━━━━━━━━━━━━━━━━\u001b[0m\u001b[37m\u001b[0m \u001b[1m70s\u001b[0m 35ms/step - accuracy: 0.2813 - loss: 3.5720 - val_accuracy: 0.1259 - val_loss: 12.4880\n",
      "Epoch 42/50\n",
      "\u001b[1m2002/2002\u001b[0m \u001b[32m━━━━━━━━━━━━━━━━━━━━\u001b[0m\u001b[37m\u001b[0m \u001b[1m94s\u001b[0m 47ms/step - accuracy: 0.2815 - loss: 3.5245 - val_accuracy: 0.1313 - val_loss: 12.4905\n",
      "Epoch 43/50\n",
      "\u001b[1m2002/2002\u001b[0m \u001b[32m━━━━━━━━━━━━━━━━━━━━\u001b[0m\u001b[37m\u001b[0m \u001b[1m70s\u001b[0m 35ms/step - accuracy: 0.2820 - loss: 3.5168 - val_accuracy: 0.1297 - val_loss: 12.7036\n",
      "Epoch 44/50\n",
      "\u001b[1m2002/2002\u001b[0m \u001b[32m━━━━━━━━━━━━━━━━━━━━\u001b[0m\u001b[37m\u001b[0m \u001b[1m77s\u001b[0m 39ms/step - accuracy: 0.2791 - loss: 3.5327 - val_accuracy: 0.1238 - val_loss: 12.7315\n",
      "Epoch 45/50\n",
      "\u001b[1m2002/2002\u001b[0m \u001b[32m━━━━━━━━━━━━━━━━━━━━\u001b[0m\u001b[37m\u001b[0m \u001b[1m76s\u001b[0m 38ms/step - accuracy: 0.2840 - loss: 3.5143 - val_accuracy: 0.1209 - val_loss: 12.7806\n",
      "Epoch 46/50\n",
      "\u001b[1m2002/2002\u001b[0m \u001b[32m━━━━━━━━━━━━━━━━━━━━\u001b[0m\u001b[37m\u001b[0m \u001b[1m74s\u001b[0m 37ms/step - accuracy: 0.2887 - loss: 3.4798 - val_accuracy: 0.1199 - val_loss: 12.8369\n",
      "Epoch 47/50\n",
      "\u001b[1m2002/2002\u001b[0m \u001b[32m━━━━━━━━━━━━━━━━━━━━\u001b[0m\u001b[37m\u001b[0m \u001b[1m74s\u001b[0m 37ms/step - accuracy: 0.2895 - loss: 3.4648 - val_accuracy: 0.1295 - val_loss: 12.8755\n",
      "Epoch 48/50\n",
      "\u001b[1m2002/2002\u001b[0m \u001b[32m━━━━━━━━━━━━━━━━━━━━\u001b[0m\u001b[37m\u001b[0m \u001b[1m74s\u001b[0m 37ms/step - accuracy: 0.2917 - loss: 3.4631 - val_accuracy: 0.1308 - val_loss: 13.0598\n",
      "Epoch 49/50\n",
      "\u001b[1m2002/2002\u001b[0m \u001b[32m━━━━━━━━━━━━━━━━━━━━\u001b[0m\u001b[37m\u001b[0m \u001b[1m72s\u001b[0m 36ms/step - accuracy: 0.2886 - loss: 3.4741 - val_accuracy: 0.1242 - val_loss: 13.1284\n",
      "Epoch 50/50\n",
      "\u001b[1m2002/2002\u001b[0m \u001b[32m━━━━━━━━━━━━━━━━━━━━\u001b[0m\u001b[37m\u001b[0m \u001b[1m79s\u001b[0m 39ms/step - accuracy: 0.2919 - loss: 3.4599 - val_accuracy: 0.1328 - val_loss: 13.2003\n"
     ]
    }
   ],
   "source": [
    "# Define your model\n",
    "model = Sequential()\n",
    "model.add(Embedding(total_words, 100)) \n",
    "model.add(Bidirectional(LSTM(150)))\n",
    "model.add(Dense(total_words, activation='softmax'))\n",
    "\n",
    "adam = Adam(learning_rate=0.01)\n",
    "model.compile(loss='categorical_crossentropy', optimizer=adam, metrics=['accuracy'])\n",
    "\n",
    "# Train the model\n",
    "history = model.fit(X_train_temp, y_train_temp, epochs=50, validation_data=(X_val, y_val), verbose=1)"
   ]
  },
  {
   "cell_type": "markdown",
   "metadata": {},
   "source": [
    "# Save Models (Weights and biases)"
   ]
  },
  {
   "cell_type": "code",
   "execution_count": 12,
   "metadata": {
    "execution": {
     "iopub.execute_input": "2024-04-11T07:17:23.074643Z",
     "iopub.status.busy": "2024-04-11T07:17:23.074319Z",
     "iopub.status.idle": "2024-04-11T07:17:23.216893Z",
     "shell.execute_reply": "2024-04-11T07:17:23.215911Z",
     "shell.execute_reply.started": "2024-04-11T07:17:23.074617Z"
    }
   },
   "outputs": [],
   "source": [
    "# Save model architecture as JSON file\n",
    "from tensorflow.keras.models import model_from_json\n",
    "\n",
    "model_json = model.to_json()\n",
    "with open(\"lstm_model.json\", \"w\") as json_file:\n",
    "    json_file.write(model_json)"
   ]
  },
  {
   "cell_type": "code",
   "execution_count": 13,
   "metadata": {},
   "outputs": [
    {
     "name": "stdout",
     "output_type": "stream",
     "text": [
      "Model architecture loaded successfully from JSON file.\n"
     ]
    }
   ],
   "source": [
    "# Load model architecture from JSON file\n",
    "from tensorflow.keras.models import model_from_json\n",
    "\n",
    "with open(\"lstm_model.json\", \"r\") as json_file:\n",
    "    loaded_model_json = json_file.read()\n",
    "\n",
    "# Create model from loaded architecture\n",
    "loaded_model = model_from_json(loaded_model_json)\n",
    "\n",
    "print(\"Model architecture loaded successfully from JSON file.\")"
   ]
  },
  {
   "cell_type": "code",
   "execution_count": 14,
   "metadata": {
    "execution": {
     "iopub.execute_input": "2024-04-11T06:04:13.104775Z",
     "iopub.status.busy": "2024-04-11T06:04:13.104349Z",
     "iopub.status.idle": "2024-04-11T06:04:13.406339Z",
     "shell.execute_reply": "2024-04-11T06:04:13.404737Z",
     "shell.execute_reply.started": "2024-04-11T06:04:13.104743Z"
    }
   },
   "outputs": [],
   "source": [
    "import matplotlib.pyplot as plt\n",
    "import seaborn as sns\n",
    "from sklearn.metrics import confusion_matrix\n"
   ]
  },
  {
   "cell_type": "code",
   "execution_count": 15,
   "metadata": {
    "execution": {
     "iopub.execute_input": "2024-04-11T06:04:14.332289Z",
     "iopub.status.busy": "2024-04-11T06:04:14.331600Z",
     "iopub.status.idle": "2024-04-11T06:04:15.028083Z",
     "shell.execute_reply": "2024-04-11T06:04:15.026976Z",
     "shell.execute_reply.started": "2024-04-11T06:04:14.332254Z"
    }
   },
   "outputs": [
    {
     "data": {
      "image/png": "[encoded data removed]",
      "text/plain": [
       "<Figure size 640x480 with 1 Axes>"
      ]
     },
     "metadata": {},
     "output_type": "display_data"
    },
    {
     "data": {
      "image/png": "[encoded data removed]",
      "text/plain": [
       "<Figure size 640x480 with 1 Axes>"
      ]
     },
     "metadata": {},
     "output_type": "display_data"
    }
   ],
   "source": [
    "\n",
    "# Plot Loss\n",
    "plt.plot(history.history['loss'], label='Training Loss')\n",
    "plt.plot(history.history['val_loss'], label='Validation Loss')\n",
    "plt.title('Training and Validation Loss')\n",
    "plt.xlabel('Epochs')\n",
    "plt.ylabel('Loss')\n",
    "plt.legend()\n",
    "plt.show()\n",
    "\n",
    "# Plot Accuracy\n",
    "plt.plot(history.history['accuracy'], label='Training Accuracy')\n",
    "plt.plot(history.history['val_accuracy'], label='Validation Accuracy')\n",
    "plt.title('Training and Validation Accuracy')\n",
    "plt.xlabel('Epochs')\n",
    "plt.ylabel('Accuracy')\n",
    "plt.legend()\n",
    "plt.show()\n"
   ]
  },
  {
   "cell_type": "markdown",
   "metadata": {},
   "source": [
    "# Inferences"
   ]
  },
  {
   "cell_type": "code",
   "execution_count": 16,
   "metadata": {
    "execution": {
     "iopub.execute_input": "2024-04-11T06:15:08.096062Z",
     "iopub.status.busy": "2024-04-11T06:15:08.095068Z",
     "iopub.status.idle": "2024-04-11T06:15:08.103261Z",
     "shell.execute_reply": "2024-04-11T06:15:08.102149Z",
     "shell.execute_reply.started": "2024-04-11T06:15:08.096025Z"
    }
   },
   "outputs": [],
   "source": [
    "def predict_top_five_words(model, tokenizer, seed_text):\n",
    "    token_list = tokenizer.texts_to_sequences([seed_text])[0]\n",
    "    token_list = pad_sequences([token_list], maxlen=max_sequence_len-1, padding='pre')\n",
    "    predicted = model.predict(token_list, verbose=0)\n",
    "    top_five_indexes = np.argsort(predicted[0])[::-1][:5]\n",
    "    top_five_words = []\n",
    "    for index in top_five_indexes:\n",
    "        for word, idx in tokenizer.word_index.items():\n",
    "            if idx == index:\n",
    "                top_five_words.append(word)\n",
    "                break\n",
    "    return top_five_words\n"
   ]
  },
  {
   "cell_type": "code",
   "execution_count": 17,
   "metadata": {
    "execution": {
     "iopub.execute_input": "2024-04-11T07:21:37.822914Z",
     "iopub.status.busy": "2024-04-11T07:21:37.822420Z",
     "iopub.status.idle": "2024-04-11T07:21:38.082054Z",
     "shell.execute_reply": "2024-04-11T07:21:38.080961Z",
     "shell.execute_reply.started": "2024-04-11T07:21:37.822880Z"
    }
   },
   "outputs": [],
   "source": [
    "from IPython.display import HTML\n",
    "\n",
    "def predict_top_five_words(model, tokenizer, seed_text):\n",
    "    token_list = tokenizer.texts_to_sequences([seed_text])[0]\n",
    "    token_list = pad_sequences([token_list], maxlen=max_sequence_len-1, padding='pre')\n",
    "    predicted = model.predict(token_list, verbose=0)\n",
    "    top_five_indexes = np.argsort(predicted[0])[::-1][:5]\n",
    "    top_five_words = []\n",
    "    for index in top_five_indexes:\n",
    "        for word, idx in tokenizer.word_index.items():\n",
    "            if idx == index:\n",
    "                top_five_words.append(word)\n",
    "                break\n",
    "    return top_five_words\n",
    "\n",
    "def predict_and_display_top_five_words(seed_text, model, tokenizer):\n",
    "    top_five_words = predict_top_five_words(model, tokenizer, seed_text)\n",
    "    heading_app = f\"<h1>Sentence AutoCompletion App With Five Outputs</h1>\"\n",
    "    output_text = f\"<ul>{''.join([f'<li>{seed_text} {word}</li>' for word in top_five_words])}</ul>\"\n",
    "    javascript_code = f\"\"\"\n",
    "    <script>\n",
    "        var newWindow = window.open(\"\", \"_blank\");\n",
    "        newWindow.document.write('<html><head><title>Top Five Words</title></head><body>{heading_app} <br> <hr> {output_text}</body></html>');\n",
    "    </script>\n",
    "    \"\"\"\n",
    "    return HTML(javascript_code)\n",
    "\n",
    "\n"
   ]
  },
  {
   "cell_type": "code",
   "execution_count": 18,
   "metadata": {
    "execution": {
     "iopub.execute_input": "2024-04-11T07:22:36.745099Z",
     "iopub.status.busy": "2024-04-11T07:22:36.744339Z",
     "iopub.status.idle": "2024-04-11T07:22:36.822230Z",
     "shell.execute_reply": "2024-04-11T07:22:36.821207Z",
     "shell.execute_reply.started": "2024-04-11T07:22:36.745061Z"
    }
   },
   "outputs": [
    {
     "data": {
      "text/html": [
       "\n",
       "    <script>\n",
       "        var newWindow = window.open(\"\", \"_blank\");\n",
       "        newWindow.document.write('<html><head><title>Top Five Words</title></head><body><h1>Sentence AutoCompletion App With Five Outputs</h1> <br> <hr> <ul><li>She is my rascal</li><li>She is my spokesman</li><li>She is my too</li><li>She is my loudly</li><li>She is my moss</li></ul></body></html>');\n",
       "    </script>\n",
       "    "
      ],
      "text/plain": [
       "<IPython.core.display.HTML object>"
      ]
     },
     "execution_count": 18,
     "metadata": {},
     "output_type": "execute_result"
    }
   ],
   "source": [
    "# Test the function\n",
    "seed_text = \"She is my\"\n",
    "predict_and_display_top_five_words(seed_text, loaded_model, tokenizer)"
   ]
  },
  {
   "cell_type": "code",
   "execution_count": 19,
   "metadata": {
    "execution": {
     "iopub.execute_input": "2024-04-11T06:32:59.206205Z",
     "iopub.status.busy": "2024-04-11T06:32:59.205113Z",
     "iopub.status.idle": "2024-04-11T06:32:59.281620Z",
     "shell.execute_reply": "2024-04-11T06:32:59.280559Z",
     "shell.execute_reply.started": "2024-04-11T06:32:59.206146Z"
    }
   },
   "outputs": [
    {
     "data": {
      "text/html": [
       "\n",
       "    <script>\n",
       "        var newWindow = window.open(\"\", \"_blank\");\n",
       "        newWindow.document.write('<html><head><title>Top Five Words</title></head><body><h1>Sentence AutoCompletion App With Five Outputs</h1> <br> <hr> <ul><li>I have rascal</li><li>I have parties</li><li>I have moss</li><li>I have spokesman</li><li>I have confined</li></ul></body></html>');\n",
       "    </script>\n",
       "    "
      ],
      "text/plain": [
       "<IPython.core.display.HTML object>"
      ]
     },
     "execution_count": 19,
     "metadata": {},
     "output_type": "execute_result"
    }
   ],
   "source": [
    "# Test 2:\n",
    "# Test the function\n",
    "seed_text = \"I have\"\n",
    "predict_and_display_top_five_words(seed_text, loaded_model, tokenizer)"
   ]
  },
  {
   "cell_type": "code",
   "execution_count": 20,
   "metadata": {
    "execution": {
     "iopub.execute_input": "2024-04-11T07:23:00.192909Z",
     "iopub.status.busy": "2024-04-11T07:23:00.192508Z",
     "iopub.status.idle": "2024-04-11T07:23:00.270331Z",
     "shell.execute_reply": "2024-04-11T07:23:00.269254Z",
     "shell.execute_reply.started": "2024-04-11T07:23:00.192880Z"
    }
   },
   "outputs": [
    {
     "data": {
      "text/html": [
       "\n",
       "    <script>\n",
       "        var newWindow = window.open(\"\", \"_blank\");\n",
       "        newWindow.document.write('<html><head><title>Top Five Words</title></head><body><h1>Sentence AutoCompletion App With Five Outputs</h1> <br> <hr> <ul><li>We love parties</li><li>We love rascal</li><li>We love spokesman</li><li>We love confined</li><li>We love alarm</li></ul></body></html>');\n",
       "    </script>\n",
       "    "
      ],
      "text/plain": [
       "<IPython.core.display.HTML object>"
      ]
     },
     "execution_count": 20,
     "metadata": {},
     "output_type": "execute_result"
    }
   ],
   "source": [
    "# Test 3:\n",
    "# Test the function\n",
    "seed_text = \"We love\"\n",
    "predict_and_display_top_five_words(seed_text, loaded_model, tokenizer)"
   ]
  },
  {
   "cell_type": "code",
   "execution_count": 21,
   "metadata": {
    "execution": {
     "iopub.execute_input": "2024-04-11T06:33:58.775637Z",
     "iopub.status.busy": "2024-04-11T06:33:58.775231Z",
     "iopub.status.idle": "2024-04-11T06:33:58.849540Z",
     "shell.execute_reply": "2024-04-11T06:33:58.848492Z",
     "shell.execute_reply.started": "2024-04-11T06:33:58.775606Z"
    }
   },
   "outputs": [
    {
     "data": {
      "text/html": [
       "\n",
       "    <script>\n",
       "        var newWindow = window.open(\"\", \"_blank\");\n",
       "        newWindow.document.write('<html><head><title>Top Five Words</title></head><body><h1>Sentence AutoCompletion App With Five Outputs</h1> <br> <hr> <ul><li>How are spokesman</li><li>How are distribute</li><li>How are rascal</li><li>How are tamely</li><li>How are parties</li></ul></body></html>');\n",
       "    </script>\n",
       "    "
      ],
      "text/plain": [
       "<IPython.core.display.HTML object>"
      ]
     },
     "execution_count": 21,
     "metadata": {},
     "output_type": "execute_result"
    }
   ],
   "source": [
    "# Test 3:\n",
    "seed_text = \"How are\"\n",
    "predict_and_display_top_five_words(seed_text, loaded_model, tokenizer)"
   ]
  }
 ],
 "metadata": {
  "kaggle": {
   "accelerator": "gpu",
   "dataSources": [
    {
     "datasetId": 4758440,
     "sourceId": 8065627,
     "sourceType": "datasetVersion"
    },
    {
     "datasetId": 4758543,
     "sourceId": 8065761,
     "sourceType": "datasetVersion"
    },
    {
     "datasetId": 4759977,
     "sourceId": 8067728,
     "sourceType": "datasetVersion"
    }
   ],
   "dockerImageVersionId": 30674,
   "isGpuEnabled": true,
   "isInternetEnabled": true,
   "language": "python",
   "sourceType": "notebook"
  },
  "kernelspec": {
   "display_name": "Python 3 (ipykernel)",
   "language": "python",
   "name": "python3"
  },
  "language_info": {
   "codemirror_mode": {
    "name": "ipython",
    "version": 3
   },
   "file_extension": ".py",
   "mimetype": "text/x-python",
   "name": "python",
   "nbconvert_exporter": "python",
   "pygments_lexer": "ipython3",
   "version": "3.11.7"
  }
 },
 "nbformat": 4,
 "nbformat_minor": 4
}
